{
 "cells": [
  {
   "cell_type": "markdown",
   "id": "68150b5d-7e8e-49ed-b1d5-0bce8e27f623",
   "metadata": {},
   "source": [
    "# Most use words non-articles"
   ]
  },
  {
   "cell_type": "code",
   "execution_count": 8,
   "id": "ef326a83-5bf3-4c6d-a27d-20cc5436499b",
   "metadata": {},
   "outputs": [],
   "source": [
    "import re\n",
    "with open(\"book.txt\", \"r\", encoding='utf-8') as file:\n",
    "    book = file.read()\n",
    "pattern = re.compile(\"[a-zA-Z]+\")\n",
    "findings = re.findall(pattern, book)"
   ]
  },
  {
   "cell_type": "code",
   "execution_count": 9,
   "id": "db380623-85f2-4904-9e4c-9cd86e5b2125",
   "metadata": {},
   "outputs": [],
   "source": [
    "d = {}\n",
    "for word in findings:\n",
    "    if word in d.keys():\n",
    "        d[word] += 1\n",
    "    else:\n",
    "        d[word] = 1"
   ]
  },
  {
   "cell_type": "code",
   "execution_count": 11,
   "id": "e7edb74a-bfd3-4985-a598-57010b574259",
   "metadata": {},
   "outputs": [],
   "source": [
    "# formatting\n",
    "d_list = [(value, key) for (key, value) in d.items()]\n",
    "# d_list\n",
    "# -----------\n",
    "# sorting\n",
    "sorted_list = sorted(d_list, reverse=True)\n",
    "# sorted_list"
   ]
  },
  {
   "cell_type": "code",
   "execution_count": 12,
   "id": "aa473252-90c3-4ffb-bbb6-141301be43a3",
   "metadata": {},
   "outputs": [
    {
     "data": {
      "text/plain": [
       "'3.10.8'"
      ]
     },
     "execution_count": 12,
     "metadata": {},
     "output_type": "execute_result"
    }
   ],
   "source": [
    "# finding python version currently using\n",
    "from platform import python_version\n",
    "python_version()"
   ]
  },
  {
   "cell_type": "code",
   "execution_count": 38,
   "id": "6e7cea31-e95b-45b7-9ddd-b5e5be678864",
   "metadata": {},
   "outputs": [],
   "source": [
    "# !pip3.10 install nltk"
   ]
  },
  {
   "cell_type": "code",
   "execution_count": 13,
   "id": "dc82f3b3-66bc-4ab7-b36b-58257e37f09c",
   "metadata": {},
   "outputs": [],
   "source": [
    "import nltk\n",
    "from nltk.corpus import stopwords\n",
    "english_stopwords = stopwords.words(\"english\")\n",
    "# english_stopwords"
   ]
  },
  {
   "cell_type": "code",
   "execution_count": 14,
   "id": "0992515c-ee3e-4086-bea1-dc41e686da12",
   "metadata": {},
   "outputs": [
    {
     "data": {
      "text/plain": [
       "[(2729, 'I'),\n",
       " (556, 'would'),\n",
       " (518, 'us'),\n",
       " (333, 'We'),\n",
       " (308, 'The'),\n",
       " (292, 'said'),\n",
       " (284, 'Roberto'),\n",
       " (249, 'could'),\n",
       " (229, 'one'),\n",
       " (225, 'snow')]"
      ]
     },
     "execution_count": 14,
     "metadata": {},
     "output_type": "execute_result"
    }
   ],
   "source": [
    "# list to filter articles etc from it\n",
    "filtered_list = []\n",
    "for count, word in sorted_list:\n",
    "    if word not in english_stopwords:\n",
    "        filtered_list.append((count, word))\n",
    "filtered_list[:10]"
   ]
  },
  {
   "cell_type": "markdown",
   "id": "95fec1cd-2d64-4ba9-afa5-9d9b00189b5c",
   "metadata": {},
   "source": [
    "# Sentimal Analysis"
   ]
  },
  {
   "cell_type": "markdown",
   "id": "8555b4eb-fe4a-4291-8e3f-bf6355df5e50",
   "metadata": {},
   "source": [
    "## Finding positive and negative chapters"
   ]
  },
  {
   "cell_type": "code",
   "execution_count": 23,
   "id": "260e1b43-7346-4161-8d87-7ef7875d2a50",
   "metadata": {},
   "outputs": [
    {
     "name": "stdout",
     "output_type": "stream",
     "text": [
      "Text is Positive\n"
     ]
    }
   ],
   "source": [
    "from nltk.sentiment import SentimentIntensityAnalyzer\n",
    "# nltk.download('vader_lexicon')\n",
    "# SentimentIntensityAnalyzer is a class\n",
    "analyzer = SentimentIntensityAnalyzer()\n",
    "scores = analyzer.polarity_scores(book)\n",
    "if scores[\"pos\"] < scores[\"neg\"]:\n",
    "    print(\"Text is negative\")\n",
    "else:\n",
    "    print(\"Text is Positive\")"
   ]
  },
  {
   "cell_type": "markdown",
   "id": "fbf8583f-9a81-4788-af5f-bf221faeea46",
   "metadata": {},
   "source": [
    "## chapter sentiment analysis"
   ]
  },
  {
   "cell_type": "code",
   "execution_count": 31,
   "id": "cb2ed5c6-57ed-4fdd-86ed-57775582abd6",
   "metadata": {},
   "outputs": [],
   "source": [
    "import re\n",
    "pattern = re.compile(\"Chapter [0-9]+\")\n",
    "chapters = re.split(pattern, book)\n",
    "# chapters[1:]"
   ]
  },
  {
   "cell_type": "code",
   "execution_count": 35,
   "id": "70675ca9-b828-4c69-bc5f-38ac73e1e086",
   "metadata": {},
   "outputs": [
    {
     "name": "stdout",
     "output_type": "stream",
     "text": [
      "0 : {'neg': 0.0, 'neu': 0.0, 'pos': 0.0, 'compound': 0.0}\n",
      "1 : {'neg': 0.061, 'neu': 0.779, 'pos': 0.16, 'compound': 1.0}\n",
      "2 : {'neg': 0.12, 'neu': 0.726, 'pos': 0.154, 'compound': 0.9991}\n",
      "3 : {'neg': 0.145, 'neu': 0.751, 'pos': 0.105, 'compound': -0.9999}\n",
      "4 : {'neg': 0.141, 'neu': 0.721, 'pos': 0.138, 'compound': -0.9963}\n",
      "5 : {'neg': 0.118, 'neu': 0.742, 'pos': 0.141, 'compound': 0.9997}\n",
      "6 : {'neg': 0.124, 'neu': 0.761, 'pos': 0.115, 'compound': -0.9979}\n",
      "7 : {'neg': 0.136, 'neu': 0.761, 'pos': 0.103, 'compound': -0.9999}\n",
      "8 : {'neg': 0.12, 'neu': 0.786, 'pos': 0.094, 'compound': -0.9998}\n",
      "9 : {'neg': 0.097, 'neu': 0.824, 'pos': 0.079, 'compound': -0.9996}\n",
      "10 : {'neg': 0.086, 'neu': 0.733, 'pos': 0.181, 'compound': 1.0}\n"
     ]
    }
   ],
   "source": [
    "for i, chapter in enumerate(chapters):\n",
    "    scores = analyzer.polarity_scores(chapter)\n",
    "    print(f\"{i} : {scores}\")"
   ]
  }
 ],
 "metadata": {
  "kernelspec": {
   "display_name": "Python 3 (ipykernel)",
   "language": "python",
   "name": "python3"
  },
  "language_info": {
   "codemirror_mode": {
    "name": "ipython",
    "version": 3
   },
   "file_extension": ".py",
   "mimetype": "text/x-python",
   "name": "python",
   "nbconvert_exporter": "python",
   "pygments_lexer": "ipython3",
   "version": "3.10.8"
  }
 },
 "nbformat": 4,
 "nbformat_minor": 5
}
