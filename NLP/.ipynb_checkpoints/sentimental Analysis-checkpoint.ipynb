{
 "cells": [
  {
   "cell_type": "markdown",
   "id": "68150b5d-7e8e-49ed-b1d5-0bce8e27f623",
   "metadata": {},
   "source": [
    "# Most use words non-articles"
   ]
  },
  {
   "cell_type": "code",
   "execution_count": 1,
   "id": "ef326a83-5bf3-4c6d-a27d-20cc5436499b",
   "metadata": {},
   "outputs": [],
   "source": [
    "import re\n",
    "with open(\"book.txt\", \"r\", encoding='utf-8') as file:\n",
    "    book = file.read()\n",
    "pattern = re.compile(\"[a-zA-Z]+\")\n",
    "findings = re.findall(pattern, book)"
   ]
  },
  {
   "cell_type": "code",
   "execution_count": 2,
   "id": "db380623-85f2-4904-9e4c-9cd86e5b2125",
   "metadata": {},
   "outputs": [],
   "source": [
    "d = {}\n",
    "for word in findings:\n",
    "    if word in d.keys():\n",
    "        d[word] += 1\n",
    "    else:\n",
    "        d[word] = 1"
   ]
  },
  {
   "cell_type": "code",
   "execution_count": 3,
   "id": "e7edb74a-bfd3-4985-a598-57010b574259",
   "metadata": {},
   "outputs": [],
   "source": [
    "# formatting\n",
    "d_list = [(value, key) for (key, value) in d.items()]\n",
    "# d_list\n",
    "# -----------\n",
    "# sorting\n",
    "sorted_list = sorted(d_list, reverse=True)\n",
    "# sorted_list"
   ]
  },
  {
   "cell_type": "code",
   "execution_count": 67,
   "id": "aa473252-90c3-4ffb-bbb6-141301be43a3",
   "metadata": {},
   "outputs": [
    {
     "data": {
      "text/plain": [
       "'3.10.8'"
      ]
     },
     "execution_count": 67,
     "metadata": {},
     "output_type": "execute_result"
    }
   ],
   "source": [
    "# finding python version currently using\n",
    "from platform import python_version\n",
    "python_version()"
   ]
  },
  {
   "cell_type": "code",
   "execution_count": 38,
   "id": "6e7cea31-e95b-45b7-9ddd-b5e5be678864",
   "metadata": {},
   "outputs": [],
   "source": [
    "# !pip3.10 install nltk"
   ]
  },
  {
   "cell_type": "code",
   "execution_count": 68,
   "id": "dc82f3b3-66bc-4ab7-b36b-58257e37f09c",
   "metadata": {},
   "outputs": [],
   "source": [
    "import nltk\n",
    "from nltk.corpus import stopwords\n",
    "english_stopwords = stopwords.words(\"english\")\n",
    "# english_stopwords"
   ]
  },
  {
   "cell_type": "code",
   "execution_count": 69,
   "id": "0992515c-ee3e-4086-bea1-dc41e686da12",
   "metadata": {},
   "outputs": [
    {
     "data": {
      "text/plain": [
       "[(2729, 'I'),\n",
       " (556, 'would'),\n",
       " (518, 'us'),\n",
       " (333, 'We'),\n",
       " (308, 'The'),\n",
       " (292, 'said'),\n",
       " (284, 'Roberto'),\n",
       " (249, 'could'),\n",
       " (229, 'one'),\n",
       " (225, 'snow')]"
      ]
     },
     "execution_count": 69,
     "metadata": {},
     "output_type": "execute_result"
    }
   ],
   "source": [
    "# list to filter articles etc from it\n",
    "filtered_list = []\n",
    "for count, word in sorted_list:\n",
    "    if word not in english_stopwords:\n",
    "        filtered_list.append((count, word))\n",
    "filtered_list[:10]"
   ]
  },
  {
   "cell_type": "markdown",
   "id": "95fec1cd-2d64-4ba9-afa5-9d9b00189b5c",
   "metadata": {},
   "source": [
    "# Sentimal Analysis"
   ]
  },
  {
   "cell_type": "markdown",
   "id": "8555b4eb-fe4a-4291-8e3f-bf6355df5e50",
   "metadata": {},
   "source": [
    "## Finding positive and negative chapters"
   ]
  },
  {
   "cell_type": "code",
   "execution_count": 4,
   "id": "260e1b43-7346-4161-8d87-7ef7875d2a50",
   "metadata": {},
   "outputs": [],
   "source": [
    "from nltk.sentiment import SentimentIntensityAnalyzer\n",
    "# nltk.download('vader_lexicon')\n",
    "# SentimentIntensityAnalyzer is a class\n",
    "analyzer = SentimentIntensityAnalyzer()\n",
    "scores = analyzer.polarity_scores(\"book\")"
   ]
  },
  {
   "cell_type": "code",
   "execution_count": null,
   "id": "f6039145-3dad-4e74-bda0-c49499c43c3e",
   "metadata": {},
   "outputs": [],
   "source": []
  }
 ],
 "metadata": {
  "kernelspec": {
   "display_name": "Python 3 (ipykernel)",
   "language": "python",
   "name": "python3"
  },
  "language_info": {
   "codemirror_mode": {
    "name": "ipython",
    "version": 3
   },
   "file_extension": ".py",
   "mimetype": "text/x-python",
   "name": "python",
   "nbconvert_exporter": "python",
   "pygments_lexer": "ipython3",
   "version": "3.10.8"
  }
 },
 "nbformat": 4,
 "nbformat_minor": 5
}
